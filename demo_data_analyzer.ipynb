{
  "nbformat": 4,
  "nbformat_minor": 0,
  "metadata": {
    "colab": {
      "provenance": [],
      "toc_visible": true
    },
    "kernelspec": {
      "name": "python3",
      "display_name": "Python 3"
    },
    "language_info": {
      "name": "python"
    }
  },
  "cells": [
    {
      "cell_type": "markdown",
      "source": [
        "#                     Demographic Data Analysis\n",
        "\n",
        "This project analyzes demographic data from the UCI Adult dataset (often used in income prediction tasks).  \n",
        "It aims to uncover insights about education, working hours, income levels, and other socio-economic factors.\n",
        "\n",
        "**Dataset source:** [Adult Census Income Dataset](https://archive.ics.uci.edu/ml/datasets/adult)\n",
        "\n",
        "---\n",
        "\n",
        "### Objectives\n",
        "1. Explore the dataset to understand its structure.\n",
        "2. Compute demographic statistics such as:\n",
        "   - Average age of men\n",
        "   - Percentage with Bachelor's degree\n",
        "   - Income distributions across education levels\n",
        "   - Richest countries and common occupations\n",
        "3. Present clear insights and visualizations.\n"
      ],
      "metadata": {
        "id": "o93q4HZRl4go"
      }
    },
    {
      "cell_type": "markdown",
      "source": [
        "##  Import Libraries and Load Data\n",
        "We'll use **Pandas** for data manipulation and **Matplotlib/Seaborn** for visualization.\n"
      ],
      "metadata": {
        "id": "cV3USqt3mGXj"
      }
    },
    {
      "cell_type": "code",
      "execution_count": 31,
      "metadata": {
        "colab": {
          "base_uri": "https://localhost:8080/",
          "height": 380
        },
        "cellView": "form",
        "id": "TBC3nvHHjNha",
        "outputId": "c64610a1-e633-410f-fdfb-f94847cccb1a"
      },
      "outputs": [
        {
          "output_type": "execute_result",
          "data": {
            "text/plain": [
              "   age         workclass  fnlwgt  education  education-num  \\\n",
              "0   39         State-gov   77516  Bachelors             13   \n",
              "1   50  Self-emp-not-inc   83311  Bachelors             13   \n",
              "2   38           Private  215646    HS-grad              9   \n",
              "3   53           Private  234721       11th              7   \n",
              "4   28           Private  338409  Bachelors             13   \n",
              "\n",
              "       marital-status         occupation   relationship   race     sex  \\\n",
              "0       Never-married       Adm-clerical  Not-in-family  White    Male   \n",
              "1  Married-civ-spouse    Exec-managerial        Husband  White    Male   \n",
              "2            Divorced  Handlers-cleaners  Not-in-family  White    Male   \n",
              "3  Married-civ-spouse  Handlers-cleaners        Husband  Black    Male   \n",
              "4  Married-civ-spouse     Prof-specialty           Wife  Black  Female   \n",
              "\n",
              "   capital-gain  capital-loss  hours-per-week native-country salary  \n",
              "0          2174             0              40  United-States  <=50K  \n",
              "1             0             0              13  United-States  <=50K  \n",
              "2             0             0              40  United-States  <=50K  \n",
              "3             0             0              40  United-States  <=50K  \n",
              "4             0             0              40           Cuba  <=50K  "
            ],
            "text/html": [
              "\n",
              "  <div id=\"df-b39abe3d-14ef-4b31-904f-f4c470e828ee\" class=\"colab-df-container\">\n",
              "    <div>\n",
              "<style scoped>\n",
              "    .dataframe tbody tr th:only-of-type {\n",
              "        vertical-align: middle;\n",
              "    }\n",
              "\n",
              "    .dataframe tbody tr th {\n",
              "        vertical-align: top;\n",
              "    }\n",
              "\n",
              "    .dataframe thead th {\n",
              "        text-align: right;\n",
              "    }\n",
              "</style>\n",
              "<table border=\"1\" class=\"dataframe\">\n",
              "  <thead>\n",
              "    <tr style=\"text-align: right;\">\n",
              "      <th></th>\n",
              "      <th>age</th>\n",
              "      <th>workclass</th>\n",
              "      <th>fnlwgt</th>\n",
              "      <th>education</th>\n",
              "      <th>education-num</th>\n",
              "      <th>marital-status</th>\n",
              "      <th>occupation</th>\n",
              "      <th>relationship</th>\n",
              "      <th>race</th>\n",
              "      <th>sex</th>\n",
              "      <th>capital-gain</th>\n",
              "      <th>capital-loss</th>\n",
              "      <th>hours-per-week</th>\n",
              "      <th>native-country</th>\n",
              "      <th>salary</th>\n",
              "    </tr>\n",
              "  </thead>\n",
              "  <tbody>\n",
              "    <tr>\n",
              "      <th>0</th>\n",
              "      <td>39</td>\n",
              "      <td>State-gov</td>\n",
              "      <td>77516</td>\n",
              "      <td>Bachelors</td>\n",
              "      <td>13</td>\n",
              "      <td>Never-married</td>\n",
              "      <td>Adm-clerical</td>\n",
              "      <td>Not-in-family</td>\n",
              "      <td>White</td>\n",
              "      <td>Male</td>\n",
              "      <td>2174</td>\n",
              "      <td>0</td>\n",
              "      <td>40</td>\n",
              "      <td>United-States</td>\n",
              "      <td>&lt;=50K</td>\n",
              "    </tr>\n",
              "    <tr>\n",
              "      <th>1</th>\n",
              "      <td>50</td>\n",
              "      <td>Self-emp-not-inc</td>\n",
              "      <td>83311</td>\n",
              "      <td>Bachelors</td>\n",
              "      <td>13</td>\n",
              "      <td>Married-civ-spouse</td>\n",
              "      <td>Exec-managerial</td>\n",
              "      <td>Husband</td>\n",
              "      <td>White</td>\n",
              "      <td>Male</td>\n",
              "      <td>0</td>\n",
              "      <td>0</td>\n",
              "      <td>13</td>\n",
              "      <td>United-States</td>\n",
              "      <td>&lt;=50K</td>\n",
              "    </tr>\n",
              "    <tr>\n",
              "      <th>2</th>\n",
              "      <td>38</td>\n",
              "      <td>Private</td>\n",
              "      <td>215646</td>\n",
              "      <td>HS-grad</td>\n",
              "      <td>9</td>\n",
              "      <td>Divorced</td>\n",
              "      <td>Handlers-cleaners</td>\n",
              "      <td>Not-in-family</td>\n",
              "      <td>White</td>\n",
              "      <td>Male</td>\n",
              "      <td>0</td>\n",
              "      <td>0</td>\n",
              "      <td>40</td>\n",
              "      <td>United-States</td>\n",
              "      <td>&lt;=50K</td>\n",
              "    </tr>\n",
              "    <tr>\n",
              "      <th>3</th>\n",
              "      <td>53</td>\n",
              "      <td>Private</td>\n",
              "      <td>234721</td>\n",
              "      <td>11th</td>\n",
              "      <td>7</td>\n",
              "      <td>Married-civ-spouse</td>\n",
              "      <td>Handlers-cleaners</td>\n",
              "      <td>Husband</td>\n",
              "      <td>Black</td>\n",
              "      <td>Male</td>\n",
              "      <td>0</td>\n",
              "      <td>0</td>\n",
              "      <td>40</td>\n",
              "      <td>United-States</td>\n",
              "      <td>&lt;=50K</td>\n",
              "    </tr>\n",
              "    <tr>\n",
              "      <th>4</th>\n",
              "      <td>28</td>\n",
              "      <td>Private</td>\n",
              "      <td>338409</td>\n",
              "      <td>Bachelors</td>\n",
              "      <td>13</td>\n",
              "      <td>Married-civ-spouse</td>\n",
              "      <td>Prof-specialty</td>\n",
              "      <td>Wife</td>\n",
              "      <td>Black</td>\n",
              "      <td>Female</td>\n",
              "      <td>0</td>\n",
              "      <td>0</td>\n",
              "      <td>40</td>\n",
              "      <td>Cuba</td>\n",
              "      <td>&lt;=50K</td>\n",
              "    </tr>\n",
              "  </tbody>\n",
              "</table>\n",
              "</div>\n",
              "    <div class=\"colab-df-buttons\">\n",
              "\n",
              "  <div class=\"colab-df-container\">\n",
              "    <button class=\"colab-df-convert\" onclick=\"convertToInteractive('df-b39abe3d-14ef-4b31-904f-f4c470e828ee')\"\n",
              "            title=\"Convert this dataframe to an interactive table.\"\n",
              "            style=\"display:none;\">\n",
              "\n",
              "  <svg xmlns=\"http://www.w3.org/2000/svg\" height=\"24px\" viewBox=\"0 -960 960 960\">\n",
              "    <path d=\"M120-120v-720h720v720H120Zm60-500h600v-160H180v160Zm220 220h160v-160H400v160Zm0 220h160v-160H400v160ZM180-400h160v-160H180v160Zm440 0h160v-160H620v160ZM180-180h160v-160H180v160Zm440 0h160v-160H620v160Z\"/>\n",
              "  </svg>\n",
              "    </button>\n",
              "\n",
              "  <style>\n",
              "    .colab-df-container {\n",
              "      display:flex;\n",
              "      gap: 12px;\n",
              "    }\n",
              "\n",
              "    .colab-df-convert {\n",
              "      background-color: #E8F0FE;\n",
              "      border: none;\n",
              "      border-radius: 50%;\n",
              "      cursor: pointer;\n",
              "      display: none;\n",
              "      fill: #1967D2;\n",
              "      height: 32px;\n",
              "      padding: 0 0 0 0;\n",
              "      width: 32px;\n",
              "    }\n",
              "\n",
              "    .colab-df-convert:hover {\n",
              "      background-color: #E2EBFA;\n",
              "      box-shadow: 0px 1px 2px rgba(60, 64, 67, 0.3), 0px 1px 3px 1px rgba(60, 64, 67, 0.15);\n",
              "      fill: #174EA6;\n",
              "    }\n",
              "\n",
              "    .colab-df-buttons div {\n",
              "      margin-bottom: 4px;\n",
              "    }\n",
              "\n",
              "    [theme=dark] .colab-df-convert {\n",
              "      background-color: #3B4455;\n",
              "      fill: #D2E3FC;\n",
              "    }\n",
              "\n",
              "    [theme=dark] .colab-df-convert:hover {\n",
              "      background-color: #434B5C;\n",
              "      box-shadow: 0px 1px 3px 1px rgba(0, 0, 0, 0.15);\n",
              "      filter: drop-shadow(0px 1px 2px rgba(0, 0, 0, 0.3));\n",
              "      fill: #FFFFFF;\n",
              "    }\n",
              "  </style>\n",
              "\n",
              "    <script>\n",
              "      const buttonEl =\n",
              "        document.querySelector('#df-b39abe3d-14ef-4b31-904f-f4c470e828ee button.colab-df-convert');\n",
              "      buttonEl.style.display =\n",
              "        google.colab.kernel.accessAllowed ? 'block' : 'none';\n",
              "\n",
              "      async function convertToInteractive(key) {\n",
              "        const element = document.querySelector('#df-b39abe3d-14ef-4b31-904f-f4c470e828ee');\n",
              "        const dataTable =\n",
              "          await google.colab.kernel.invokeFunction('convertToInteractive',\n",
              "                                                    [key], {});\n",
              "        if (!dataTable) return;\n",
              "\n",
              "        const docLinkHtml = 'Like what you see? Visit the ' +\n",
              "          '<a target=\"_blank\" href=https://colab.research.google.com/notebooks/data_table.ipynb>data table notebook</a>'\n",
              "          + ' to learn more about interactive tables.';\n",
              "        element.innerHTML = '';\n",
              "        dataTable['output_type'] = 'display_data';\n",
              "        await google.colab.output.renderOutput(dataTable, element);\n",
              "        const docLink = document.createElement('div');\n",
              "        docLink.innerHTML = docLinkHtml;\n",
              "        element.appendChild(docLink);\n",
              "      }\n",
              "    </script>\n",
              "  </div>\n",
              "\n",
              "\n",
              "    <div id=\"df-ced641cc-65cf-48ba-b5df-2ba8a892a40f\">\n",
              "      <button class=\"colab-df-quickchart\" onclick=\"quickchart('df-ced641cc-65cf-48ba-b5df-2ba8a892a40f')\"\n",
              "                title=\"Suggest charts\"\n",
              "                style=\"display:none;\">\n",
              "\n",
              "<svg xmlns=\"http://www.w3.org/2000/svg\" height=\"24px\"viewBox=\"0 0 24 24\"\n",
              "     width=\"24px\">\n",
              "    <g>\n",
              "        <path d=\"M19 3H5c-1.1 0-2 .9-2 2v14c0 1.1.9 2 2 2h14c1.1 0 2-.9 2-2V5c0-1.1-.9-2-2-2zM9 17H7v-7h2v7zm4 0h-2V7h2v10zm4 0h-2v-4h2v4z\"/>\n",
              "    </g>\n",
              "</svg>\n",
              "      </button>\n",
              "\n",
              "<style>\n",
              "  .colab-df-quickchart {\n",
              "      --bg-color: #E8F0FE;\n",
              "      --fill-color: #1967D2;\n",
              "      --hover-bg-color: #E2EBFA;\n",
              "      --hover-fill-color: #174EA6;\n",
              "      --disabled-fill-color: #AAA;\n",
              "      --disabled-bg-color: #DDD;\n",
              "  }\n",
              "\n",
              "  [theme=dark] .colab-df-quickchart {\n",
              "      --bg-color: #3B4455;\n",
              "      --fill-color: #D2E3FC;\n",
              "      --hover-bg-color: #434B5C;\n",
              "      --hover-fill-color: #FFFFFF;\n",
              "      --disabled-bg-color: #3B4455;\n",
              "      --disabled-fill-color: #666;\n",
              "  }\n",
              "\n",
              "  .colab-df-quickchart {\n",
              "    background-color: var(--bg-color);\n",
              "    border: none;\n",
              "    border-radius: 50%;\n",
              "    cursor: pointer;\n",
              "    display: none;\n",
              "    fill: var(--fill-color);\n",
              "    height: 32px;\n",
              "    padding: 0;\n",
              "    width: 32px;\n",
              "  }\n",
              "\n",
              "  .colab-df-quickchart:hover {\n",
              "    background-color: var(--hover-bg-color);\n",
              "    box-shadow: 0 1px 2px rgba(60, 64, 67, 0.3), 0 1px 3px 1px rgba(60, 64, 67, 0.15);\n",
              "    fill: var(--button-hover-fill-color);\n",
              "  }\n",
              "\n",
              "  .colab-df-quickchart-complete:disabled,\n",
              "  .colab-df-quickchart-complete:disabled:hover {\n",
              "    background-color: var(--disabled-bg-color);\n",
              "    fill: var(--disabled-fill-color);\n",
              "    box-shadow: none;\n",
              "  }\n",
              "\n",
              "  .colab-df-spinner {\n",
              "    border: 2px solid var(--fill-color);\n",
              "    border-color: transparent;\n",
              "    border-bottom-color: var(--fill-color);\n",
              "    animation:\n",
              "      spin 1s steps(1) infinite;\n",
              "  }\n",
              "\n",
              "  @keyframes spin {\n",
              "    0% {\n",
              "      border-color: transparent;\n",
              "      border-bottom-color: var(--fill-color);\n",
              "      border-left-color: var(--fill-color);\n",
              "    }\n",
              "    20% {\n",
              "      border-color: transparent;\n",
              "      border-left-color: var(--fill-color);\n",
              "      border-top-color: var(--fill-color);\n",
              "    }\n",
              "    30% {\n",
              "      border-color: transparent;\n",
              "      border-left-color: var(--fill-color);\n",
              "      border-top-color: var(--fill-color);\n",
              "      border-right-color: var(--fill-color);\n",
              "    }\n",
              "    40% {\n",
              "      border-color: transparent;\n",
              "      border-right-color: var(--fill-color);\n",
              "      border-top-color: var(--fill-color);\n",
              "    }\n",
              "    60% {\n",
              "      border-color: transparent;\n",
              "      border-right-color: var(--fill-color);\n",
              "    }\n",
              "    80% {\n",
              "      border-color: transparent;\n",
              "      border-right-color: var(--fill-color);\n",
              "      border-bottom-color: var(--fill-color);\n",
              "    }\n",
              "    90% {\n",
              "      border-color: transparent;\n",
              "      border-bottom-color: var(--fill-color);\n",
              "    }\n",
              "  }\n",
              "</style>\n",
              "\n",
              "      <script>\n",
              "        async function quickchart(key) {\n",
              "          const quickchartButtonEl =\n",
              "            document.querySelector('#' + key + ' button');\n",
              "          quickchartButtonEl.disabled = true;  // To prevent multiple clicks.\n",
              "          quickchartButtonEl.classList.add('colab-df-spinner');\n",
              "          try {\n",
              "            const charts = await google.colab.kernel.invokeFunction(\n",
              "                'suggestCharts', [key], {});\n",
              "          } catch (error) {\n",
              "            console.error('Error during call to suggestCharts:', error);\n",
              "          }\n",
              "          quickchartButtonEl.classList.remove('colab-df-spinner');\n",
              "          quickchartButtonEl.classList.add('colab-df-quickchart-complete');\n",
              "        }\n",
              "        (() => {\n",
              "          let quickchartButtonEl =\n",
              "            document.querySelector('#df-ced641cc-65cf-48ba-b5df-2ba8a892a40f button');\n",
              "          quickchartButtonEl.style.display =\n",
              "            google.colab.kernel.accessAllowed ? 'block' : 'none';\n",
              "        })();\n",
              "      </script>\n",
              "    </div>\n",
              "\n",
              "    </div>\n",
              "  </div>\n"
            ],
            "application/vnd.google.colaboratory.intrinsic+json": {
              "type": "dataframe",
              "variable_name": "df",
              "summary": "{\n  \"name\": \"df\",\n  \"rows\": 32561,\n  \"fields\": [\n    {\n      \"column\": \"age\",\n      \"properties\": {\n        \"dtype\": \"number\",\n        \"std\": 13,\n        \"min\": 17,\n        \"max\": 90,\n        \"num_unique_values\": 73,\n        \"samples\": [\n          28,\n          73,\n          35\n        ],\n        \"semantic_type\": \"\",\n        \"description\": \"\"\n      }\n    },\n    {\n      \"column\": \"workclass\",\n      \"properties\": {\n        \"dtype\": \"category\",\n        \"num_unique_values\": 9,\n        \"samples\": [\n          \"Without-pay\",\n          \"Self-emp-not-inc\",\n          \"?\"\n        ],\n        \"semantic_type\": \"\",\n        \"description\": \"\"\n      }\n    },\n    {\n      \"column\": \"fnlwgt\",\n      \"properties\": {\n        \"dtype\": \"number\",\n        \"std\": 105549,\n        \"min\": 12285,\n        \"max\": 1484705,\n        \"num_unique_values\": 21648,\n        \"samples\": [\n          128485,\n          469907,\n          235951\n        ],\n        \"semantic_type\": \"\",\n        \"description\": \"\"\n      }\n    },\n    {\n      \"column\": \"education\",\n      \"properties\": {\n        \"dtype\": \"category\",\n        \"num_unique_values\": 16,\n        \"samples\": [\n          \"Bachelors\",\n          \"HS-grad\",\n          \"Some-college\"\n        ],\n        \"semantic_type\": \"\",\n        \"description\": \"\"\n      }\n    },\n    {\n      \"column\": \"education-num\",\n      \"properties\": {\n        \"dtype\": \"number\",\n        \"std\": 2,\n        \"min\": 1,\n        \"max\": 16,\n        \"num_unique_values\": 16,\n        \"samples\": [\n          13,\n          9,\n          10\n        ],\n        \"semantic_type\": \"\",\n        \"description\": \"\"\n      }\n    },\n    {\n      \"column\": \"marital-status\",\n      \"properties\": {\n        \"dtype\": \"category\",\n        \"num_unique_values\": 7,\n        \"samples\": [\n          \"Never-married\",\n          \"Married-civ-spouse\",\n          \"Married-AF-spouse\"\n        ],\n        \"semantic_type\": \"\",\n        \"description\": \"\"\n      }\n    },\n    {\n      \"column\": \"occupation\",\n      \"properties\": {\n        \"dtype\": \"category\",\n        \"num_unique_values\": 15,\n        \"samples\": [\n          \"Machine-op-inspct\",\n          \"?\",\n          \"Adm-clerical\"\n        ],\n        \"semantic_type\": \"\",\n        \"description\": \"\"\n      }\n    },\n    {\n      \"column\": \"relationship\",\n      \"properties\": {\n        \"dtype\": \"category\",\n        \"num_unique_values\": 6,\n        \"samples\": [\n          \"Not-in-family\",\n          \"Husband\",\n          \"Other-relative\"\n        ],\n        \"semantic_type\": \"\",\n        \"description\": \"\"\n      }\n    },\n    {\n      \"column\": \"race\",\n      \"properties\": {\n        \"dtype\": \"category\",\n        \"num_unique_values\": 5,\n        \"samples\": [\n          \"Black\",\n          \"Other\",\n          \"Asian-Pac-Islander\"\n        ],\n        \"semantic_type\": \"\",\n        \"description\": \"\"\n      }\n    },\n    {\n      \"column\": \"sex\",\n      \"properties\": {\n        \"dtype\": \"category\",\n        \"num_unique_values\": 2,\n        \"samples\": [\n          \"Female\",\n          \"Male\"\n        ],\n        \"semantic_type\": \"\",\n        \"description\": \"\"\n      }\n    },\n    {\n      \"column\": \"capital-gain\",\n      \"properties\": {\n        \"dtype\": \"number\",\n        \"std\": 7385,\n        \"min\": 0,\n        \"max\": 99999,\n        \"num_unique_values\": 119,\n        \"samples\": [\n          3781,\n          15831\n        ],\n        \"semantic_type\": \"\",\n        \"description\": \"\"\n      }\n    },\n    {\n      \"column\": \"capital-loss\",\n      \"properties\": {\n        \"dtype\": \"number\",\n        \"std\": 402,\n        \"min\": 0,\n        \"max\": 4356,\n        \"num_unique_values\": 92,\n        \"samples\": [\n          419,\n          2051\n        ],\n        \"semantic_type\": \"\",\n        \"description\": \"\"\n      }\n    },\n    {\n      \"column\": \"hours-per-week\",\n      \"properties\": {\n        \"dtype\": \"number\",\n        \"std\": 12,\n        \"min\": 1,\n        \"max\": 99,\n        \"num_unique_values\": 94,\n        \"samples\": [\n          6,\n          22\n        ],\n        \"semantic_type\": \"\",\n        \"description\": \"\"\n      }\n    },\n    {\n      \"column\": \"native-country\",\n      \"properties\": {\n        \"dtype\": \"category\",\n        \"num_unique_values\": 42,\n        \"samples\": [\n          \"El-Salvador\",\n          \"Philippines\"\n        ],\n        \"semantic_type\": \"\",\n        \"description\": \"\"\n      }\n    },\n    {\n      \"column\": \"salary\",\n      \"properties\": {\n        \"dtype\": \"category\",\n        \"num_unique_values\": 2,\n        \"samples\": [\n          \">50K\",\n          \"<=50K\"\n        ],\n        \"semantic_type\": \"\",\n        \"description\": \"\"\n      }\n    }\n  ]\n}"
            }
          },
          "metadata": {},
          "execution_count": 31
        }
      ],
      "source": [
        "# @title\n",
        "import pandas as pd\n",
        "import matplotlib.pyplot as plt\n",
        "import seaborn as sns\n",
        "\n",
        "# Loading dataset from my GitHub(Stabat47) raw link (originally a freecodecamp project on data analysis with python)\n",
        "url = \"https://raw.githubusercontent.com/Stabat47/Demographic-Data-Analyzer/main/adult.data.csv\"\n",
        "df = pd.read_csv(url)\n",
        "\n",
        "# Cleaning whitespaces in string columns\n",
        "df = df.map(lambda x: x.strip() if isinstance(x, str) else x)\n",
        "\n",
        "\n",
        "# Display first few rows\n",
        "df.head()\n"
      ]
    },
    {
      "cell_type": "markdown",
      "source": [
        "##  Basic Data Overview\n",
        "Let's inspect the structure, data types, and missing values to understand what we're working with.\n"
      ],
      "metadata": {
        "id": "8ddpDYCYmez1"
      }
    },
    {
      "cell_type": "code",
      "source": [
        "# @title\n",
        "df.info()\n",
        "df.describe()\n",
        "df.isnull().sum()\n"
      ],
      "metadata": {
        "colab": {
          "base_uri": "https://localhost:8080/",
          "height": 936
        },
        "cellView": "form",
        "id": "54SGiaw9mhcV",
        "outputId": "883d1038-a3c8-4efa-8d93-0f925b7f7101"
      },
      "execution_count": 11,
      "outputs": [
        {
          "output_type": "stream",
          "name": "stdout",
          "text": [
            "<class 'pandas.core.frame.DataFrame'>\n",
            "RangeIndex: 32561 entries, 0 to 32560\n",
            "Data columns (total 15 columns):\n",
            " #   Column          Non-Null Count  Dtype \n",
            "---  ------          --------------  ----- \n",
            " 0   age             32561 non-null  int64 \n",
            " 1   workclass       32561 non-null  object\n",
            " 2   fnlwgt          32561 non-null  int64 \n",
            " 3   education       32561 non-null  object\n",
            " 4   education-num   32561 non-null  int64 \n",
            " 5   marital-status  32561 non-null  object\n",
            " 6   occupation      32561 non-null  object\n",
            " 7   relationship    32561 non-null  object\n",
            " 8   race            32561 non-null  object\n",
            " 9   sex             32561 non-null  object\n",
            " 10  capital-gain    32561 non-null  int64 \n",
            " 11  capital-loss    32561 non-null  int64 \n",
            " 12  hours-per-week  32561 non-null  int64 \n",
            " 13  native-country  32561 non-null  object\n",
            " 14  salary          32561 non-null  object\n",
            "dtypes: int64(6), object(9)\n",
            "memory usage: 3.7+ MB\n"
          ]
        },
        {
          "output_type": "execute_result",
          "data": {
            "text/plain": [
              "age               0\n",
              "workclass         0\n",
              "fnlwgt            0\n",
              "education         0\n",
              "education-num     0\n",
              "marital-status    0\n",
              "occupation        0\n",
              "relationship      0\n",
              "race              0\n",
              "sex               0\n",
              "capital-gain      0\n",
              "capital-loss      0\n",
              "hours-per-week    0\n",
              "native-country    0\n",
              "salary            0\n",
              "dtype: int64"
            ],
            "text/html": [
              "<div>\n",
              "<style scoped>\n",
              "    .dataframe tbody tr th:only-of-type {\n",
              "        vertical-align: middle;\n",
              "    }\n",
              "\n",
              "    .dataframe tbody tr th {\n",
              "        vertical-align: top;\n",
              "    }\n",
              "\n",
              "    .dataframe thead th {\n",
              "        text-align: right;\n",
              "    }\n",
              "</style>\n",
              "<table border=\"1\" class=\"dataframe\">\n",
              "  <thead>\n",
              "    <tr style=\"text-align: right;\">\n",
              "      <th></th>\n",
              "      <th>0</th>\n",
              "    </tr>\n",
              "  </thead>\n",
              "  <tbody>\n",
              "    <tr>\n",
              "      <th>age</th>\n",
              "      <td>0</td>\n",
              "    </tr>\n",
              "    <tr>\n",
              "      <th>workclass</th>\n",
              "      <td>0</td>\n",
              "    </tr>\n",
              "    <tr>\n",
              "      <th>fnlwgt</th>\n",
              "      <td>0</td>\n",
              "    </tr>\n",
              "    <tr>\n",
              "      <th>education</th>\n",
              "      <td>0</td>\n",
              "    </tr>\n",
              "    <tr>\n",
              "      <th>education-num</th>\n",
              "      <td>0</td>\n",
              "    </tr>\n",
              "    <tr>\n",
              "      <th>marital-status</th>\n",
              "      <td>0</td>\n",
              "    </tr>\n",
              "    <tr>\n",
              "      <th>occupation</th>\n",
              "      <td>0</td>\n",
              "    </tr>\n",
              "    <tr>\n",
              "      <th>relationship</th>\n",
              "      <td>0</td>\n",
              "    </tr>\n",
              "    <tr>\n",
              "      <th>race</th>\n",
              "      <td>0</td>\n",
              "    </tr>\n",
              "    <tr>\n",
              "      <th>sex</th>\n",
              "      <td>0</td>\n",
              "    </tr>\n",
              "    <tr>\n",
              "      <th>capital-gain</th>\n",
              "      <td>0</td>\n",
              "    </tr>\n",
              "    <tr>\n",
              "      <th>capital-loss</th>\n",
              "      <td>0</td>\n",
              "    </tr>\n",
              "    <tr>\n",
              "      <th>hours-per-week</th>\n",
              "      <td>0</td>\n",
              "    </tr>\n",
              "    <tr>\n",
              "      <th>native-country</th>\n",
              "      <td>0</td>\n",
              "    </tr>\n",
              "    <tr>\n",
              "      <th>salary</th>\n",
              "      <td>0</td>\n",
              "    </tr>\n",
              "  </tbody>\n",
              "</table>\n",
              "</div><br><label><b>dtype:</b> int64</label>"
            ]
          },
          "metadata": {},
          "execution_count": 11
        }
      ]
    },
    {
      "cell_type": "markdown",
      "source": [
        "###  Data Quality and Structure\n",
        "\n",
        "The dataset *above* contains **32,561 entries** and **15 columns**.  \n",
        "All columns are non-null, meaning there are **no missing values** to handle — which simplifies the cleaning process.\n",
        "\n",
        "| Feature | Description |\n",
        "|----------|--------------|\n",
        "| age | Age of the individual |\n",
        "| workclass | Type of employment (e.g., Private, Self-emp) |\n",
        "| fnlwgt | Census weight |\n",
        "| education | Highest level of education attained |\n",
        "| education-num | Numeric representation of education |\n",
        "| marital-status | Marital status |\n",
        "| occupation | Job type |\n",
        "| relationship | Family relationship role |\n",
        "| race | Ethnic group |\n",
        "| sex | Gender |\n",
        "| capital-gain | Capital gains recorded |\n",
        "| capital-loss | Capital losses recorded |\n",
        "| hours-per-week | Average weekly work hours |\n",
        "| native-country | Country of origin |\n",
        "| salary | Income class (<=50K or >50K) |\n",
        "\n",
        "**Summary:**\n",
        "- The dataset is well-structured and complete.\n",
        "- Most features are categorical (`object` type), which are suitable for grouping and counting operations.\n",
        "- The numeric columns (`age`, `hours-per-week`, `capital-gain`, etc.) are suitable for statistical summaries and visualization.\n"
      ],
      "metadata": {
        "id": "qcpXhR1AsD4s"
      }
    },
    {
      "cell_type": "markdown",
      "source": [
        "##  Demographic Insights\n",
        "Here, we calculate various statistics using Pandas to better understand demographic patterns.\n"
      ],
      "metadata": {
        "id": "XQRPY2yBmwwL"
      }
    },
    {
      "cell_type": "code",
      "source": [
        "# @title\n",
        "# Number of each race\n",
        "race_count = df['race'].value_counts()\n",
        "print(\"Number of each race:\\n\", race_count)\n",
        "\n",
        "# Average age of men\n",
        "average_age_men = round(df[df['sex'] == 'Male']['age'].mean(), 1)\n",
        "print(\"\\nAverage age of men:\", average_age_men)\n",
        "\n",
        "# Percentage with Bachelors degree\n",
        "percentage_bachelors = round((df['education'] == 'Bachelors').mean() * 100, 1)\n",
        "print(\"\\nPercentage with Bachelors degrees:\", percentage_bachelors)\n"
      ],
      "metadata": {
        "colab": {
          "base_uri": "https://localhost:8080/",
          "height": 0
        },
        "cellView": "form",
        "id": "BCA3bM4Vm9KQ",
        "outputId": "10f1fb6f-18d3-4f8c-b71d-7e6b3e205d5c"
      },
      "execution_count": 12,
      "outputs": [
        {
          "output_type": "stream",
          "name": "stdout",
          "text": [
            "Number of each race:\n",
            " race\n",
            "White                 27816\n",
            "Black                  3124\n",
            "Asian-Pac-Islander     1039\n",
            "Amer-Indian-Eskimo      311\n",
            "Other                   271\n",
            "Name: count, dtype: int64\n",
            "\n",
            "Average age of men: 39.4\n",
            "\n",
            "Percentage with Bachelors degrees: 16.4\n"
          ]
        }
      ]
    },
    {
      "cell_type": "markdown",
      "source": [
        "###  Demographic Insight analysis\n",
        "\n",
        "The dataset above provides a diverse representation of racial and gender demographics in the adult population.\n",
        "\n",
        "- **Race Distribution:**  \n",
        "  The majority of individuals identify as **White (≈85%)**, followed by **Black (≈10%)**, **Asian-Pac-Islander (≈3%)**, and smaller groups of **Amer-Indian-Eskimo** and **Other** categories.  \n",
        "  This shows that while the dataset is somewhat imbalanced racially, it still captures multiple ethnic backgrounds, allowing for comparative demographic studies.\n",
        "\n",
        "- **Average Age of Men:**  \n",
        "  The **average male age is 39.4 years**, suggesting that most participants are well within the working-age population — a key factor in analyzing income and occupational trends.\n",
        "\n",
        "- **Educational Attainment:**  \n",
        "  Approximately **16.4% of the population holds a Bachelor’s degree**, which gives context for higher education representation in this dataset.  \n",
        "  Considering the variety of education levels present, we can later compare how advanced education correlates with higher income brackets.\n",
        "\n",
        "Overall, these initial findings help establish a demographic baseline for the dataset, giving us a clearer picture of the population before deeper analysis into education, work hours, and income.\n"
      ],
      "metadata": {
        "id": "hGZZgGyjuX3v"
      }
    },
    {
      "cell_type": "code",
      "source": [
        "# @title\n",
        "sns.countplot(\n",
        "    y='race',\n",
        "    data=df,\n",
        "    order=df['race'].value_counts().index,\n",
        "    hue='race',\n",
        "    palette='viridis',\n",
        "    legend=False\n",
        ")\n",
        "plt.title('Race Distribution in the Adult Population')\n",
        "plt.xlabel('Count')\n",
        "plt.ylabel('Race')\n",
        "plt.show()\n",
        "\n"
      ],
      "metadata": {
        "colab": {
          "base_uri": "https://localhost:8080/",
          "height": 472
        },
        "cellView": "form",
        "id": "x-H06bhmvdTv",
        "outputId": "9600c6c3-138e-4e7e-c6e7-fa5bed0cab35"
      },
      "execution_count": 21,
      "outputs": [
        {
          "output_type": "display_data",
          "data": {
            "text/plain": [
              "<Figure size 640x480 with 1 Axes>"
            ],
            "image/png": "[encoded data removed]"
          },
          "metadata": {}
        }
      ]
    },
    {
      "cell_type": "markdown",
      "source": [
        "The visualization confirms the racial imbalance, with a dominant White representation but notable inclusion of other groups, supporting diverse demographic comparisons.\n"
      ],
      "metadata": {
        "id": "xqExyAS7vprj"
      }
    },
    {
      "cell_type": "markdown",
      "source": [
        "##  Education and Income Relationship\n",
        "We'll compare income levels for people with advanced education (Bachelors, Masters, Doctorate) and those without.\n"
      ],
      "metadata": {
        "id": "uUm1nTtAnTEd"
      }
    },
    {
      "cell_type": "code",
      "source": [
        "# @title\n",
        "# Education groups\n",
        "higher_education = df[df['education'].isin(['Bachelors', 'Masters', 'Doctorate'])]\n",
        "lower_education = df[~df['education'].isin(['Bachelors', 'Masters', 'Doctorate'])]\n",
        "\n",
        "#Rich percentages\n",
        "higher_education_rich = round((higher_education['salary'] == '>50K').mean() * 100, 1)\n",
        "lower_education_rich = round((lower_education['salary'] == '>50K').mean() * 100, 1)\n",
        "\n",
        "print(f\"Percentage with higher education that earn >50K: {higher_education_rich}%\")\n",
        "print(f\"Percentage without higher education that earn >50K: {lower_education_rich}%\")\n"
      ],
      "metadata": {
        "colab": {
          "base_uri": "https://localhost:8080/",
          "height": 0
        },
        "cellView": "form",
        "id": "rA2EabK3nsL1",
        "outputId": "02e056a9-8956-4df2-e2db-ed1f81424eaf"
      },
      "execution_count": 13,
      "outputs": [
        {
          "output_type": "stream",
          "name": "stdout",
          "text": [
            "Percentage with higher education that earn >50K: 46.5%\n",
            "Percentage without higher education that earn >50K: 17.4%\n"
          ]
        }
      ]
    },
    {
      "cell_type": "markdown",
      "source": [
        "### Analysis: Income and Education Level\n",
        "\n",
        "The data shows a significant relationship between education level and income. Individuals with higher education (Bachelor’s, Master’s, or Doctorate) have a substantially greater likelihood of earning more than $50K annually compared to those without higher education. The following chart visualizes this income disparity between the two groups."
      ],
      "metadata": {
        "id": "4_O3FazawiNz"
      }
    },
    {
      "cell_type": "code",
      "source": [
        "# @title\n",
        " sns.barplot(x='Education Level',\n",
        "            y='Percentage earning >50K',\n",
        "            hue='Education Level',\n",
        "            data=pd.DataFrame({\n",
        "                'Education Level': ['Higher Education', 'Lower Education'],\n",
        "                'Percentage earning >50K': [higher_education_rich, lower_education_rich]\n",
        "            }),\n",
        "            palette='viridis',\n",
        "            legend=False)\n",
        "plt.ylabel('Percentage earning >50K')\n",
        "plt.title('Income vs Education Level')\n",
        "plt.show()\n"
      ],
      "metadata": {
        "colab": {
          "base_uri": "https://localhost:8080/",
          "height": 472
        },
        "cellView": "form",
        "id": "l4R9ezjLoLo2",
        "outputId": "7fa0c8ea-a36b-4cdf-fe82-9c538e7efa6e"
      },
      "execution_count": 20,
      "outputs": [
        {
          "output_type": "display_data",
          "data": {
            "text/plain": [
              "<Figure size 640x480 with 1 Axes>"
            ],
            "image/png": "[encoded data removed]"
          },
          "metadata": {}
        }
      ]
    },
    {
      "cell_type": "markdown",
      "source": [
        "##  Working Hours and Income\n",
        "Let's identify the minimum working hours and how income correlates with work time.\n"
      ],
      "metadata": {
        "id": "8qkeCwe1opG5"
      }
    },
    {
      "cell_type": "code",
      "source": [
        "# @title\n",
        "min_work_hours = df['hours-per-week'].min()\n",
        "rich_percentage = round((df[df['hours-per-week'] == min_work_hours]['salary'] == '>50K').mean() * 100, 1)\n",
        "\n",
        "print(\"Minimum work hours per week:\", min_work_hours)\n",
        "print(f\"Percentage of rich among those who work fewest hours: {rich_percentage}%\")\n"
      ],
      "metadata": {
        "colab": {
          "base_uri": "https://localhost:8080/",
          "height": 0
        },
        "cellView": "form",
        "id": "3FYhjAkaotbp",
        "outputId": "28938306-db69-425a-b460-cba3ff4a6174"
      },
      "execution_count": 15,
      "outputs": [
        {
          "output_type": "stream",
          "name": "stdout",
          "text": [
            "Minimum work hours per week: 1\n",
            "Percentage of rich among those who work fewest hours: 10.0%\n"
          ]
        }
      ]
    },
    {
      "cell_type": "markdown",
      "source": [
        "### Working Hours vs Income analysis\n",
        "\n",
        "When analyzing the relationship between **working hours** and **income**, we find that the *minimum* number of hours worked per week in this dataset is **1 hour**.  \n",
        "Surprisingly, even among those who work the fewest hours, about **10%** earn more than **$50K annually**.  \n",
        "\n",
        "This suggests that while working longer hours generally correlates with higher income, there are exceptions — likely individuals with **high-paying part-time roles**, **business owners**, or those with **investment-based income**. It highlights how wealth isn’t always directly tied to time spent working, but also to the **type of work** and **economic opportunities** available.\n"
      ],
      "metadata": {
        "id": "i1-LRbJ-x2C5"
      }
    },
    {
      "cell_type": "code",
      "source": [
        "# @title\n",
        "import numpy as np\n",
        "\n",
        "\n",
        "# bins for working hours\n",
        "bins = [0, 10, 20, 30, 40, 50, 60, 70, 100]\n",
        "labels = ['0-10', '11-20', '21-30', '31-40', '41-50', '51-60', '61-70', '71+']\n",
        "df['hours-bin'] = pd.cut(df['hours-per-week'], bins=bins, labels=labels, right=False)\n",
        "\n",
        "# rich percentage per bin\n",
        "income_by_hours = (\n",
        "    df.groupby('hours-bin')['salary']\n",
        "      .apply(lambda x: (x == '>50K').mean() * 100)\n",
        "      .reset_index(name='Percentage >50K')\n",
        ")\n",
        "\n",
        "income_by_hours['hue'] = income_by_hours['hours-bin']\n",
        "\n",
        "# Plot\n",
        "sns.barplot(\n",
        "    x='hours-bin',\n",
        "    y='Percentage >50K',\n",
        "    data=income_by_hours,\n",
        "    hue='hue',\n",
        "    palette='viridis',\n",
        "    legend=False\n",
        ")\n",
        "plt.title('Income Distribution by Working Hours per Week')\n",
        "plt.xlabel('Working Hours per Week (Binned)')\n",
        "plt.ylabel('Percentage Earning >50K')\n",
        "plt.xticks(rotation=45)\n",
        "plt.tight_layout()\n",
        "plt.show()\n"
      ],
      "metadata": {
        "colab": {
          "base_uri": "https://localhost:8080/",
          "height": 542
        },
        "cellView": "form",
        "id": "4XOu4P6Fx7qf",
        "outputId": "1df5056c-3f10-445d-ad42-9e63e2f911c7"
      },
      "execution_count": 30,
      "outputs": [
        {
          "output_type": "stream",
          "name": "stderr",
          "text": [
            "/tmp/ipython-input-2088296096.py:11: FutureWarning: The default of observed=False is deprecated and will be changed to True in a future version of pandas. Pass observed=False to retain current behavior or observed=True to adopt the future default and silence this warning.\n",
            "  df.groupby('hours-bin')['salary']\n"
          ]
        },
        {
          "output_type": "display_data",
          "data": {
            "text/plain": [
              "<Figure size 640x480 with 1 Axes>"
            ],
            "image/png": "[encoded data removed]"
          },
          "metadata": {}
        }
      ]
    },
    {
      "cell_type": "markdown",
      "source": [
        "##  Highest Earning Countries and Occupations\n",
        "We'll find which country has the highest percentage of high earners and the most common high-paying occupation in India.\n"
      ],
      "metadata": {
        "id": "qaua5YlIzYWD"
      }
    },
    {
      "cell_type": "code",
      "source": [
        "# @title\n",
        "# top occupation in india\n",
        "top_IN_occupation =  df[(df['native-country'] == 'India') & (df['salary'] == '>50K')]['occupation'].mode()[0]\n",
        "print(\"Top occupations in India:\", top_IN_occupation)"
      ],
      "metadata": {
        "colab": {
          "base_uri": "https://localhost:8080/",
          "height": 0
        },
        "cellView": "form",
        "id": "dRNxuPBb3ngM",
        "outputId": "0d0e4211-c2d1-4d25-d8e7-8f10d262e0cd"
      },
      "execution_count": 29,
      "outputs": [
        {
          "output_type": "stream",
          "name": "stdout",
          "text": [
            "Top occupations in India: Prof-specialty\n"
          ]
        }
      ]
    },
    {
      "cell_type": "markdown",
      "source": [
        "###  Income Distribution by Country\n",
        "\n",
        "The analysis of income by country reveals interesting patterns. Among the top 10 countries with the highest proportion of individuals earning **more than $50K annually**:\n",
        "\n",
        "- **Iran** leads the list with **41.9%**, followed closely by **France (41.4%)** and **India (40.0%)**.  \n",
        "- Other notable countries include **Taiwan, Japan, Yugoslavia, Cambodia, Italy, England, and Canada**, all with percentages above 32%.\n",
        "\n",
        "This indicates that, in this dataset, certain countries have a **higher concentration of high-income earners**, which could reflect differences in **economic structure, professional opportunities, education levels, or cost of living**.  \n",
        "\n",
        "While the absolute number of high earners might be lower in smaller countries, the **percentage relative to the population sampled** provides a normalized view of income distribution.  \n",
        "\n",
        "The following bar chart visually highlights these top countries, making it easy to compare high-income prevalence across regions.\n"
      ],
      "metadata": {
        "id": "F3ezpKs71HTe"
      }
    },
    {
      "cell_type": "code",
      "source": [
        "# @title\n",
        "#top 10 countries by percentage of people earning >50K\n",
        "top10_rich_countries = rich_country_percentages.sort_values(ascending=False).head(10)\n",
        "\n",
        "# formatted table\n",
        "top10_table = top10_rich_countries.reset_index()\n",
        "top10_table.columns = ['Country', 'Percentage of People >50K']\n",
        "\n",
        "# table\n",
        "print(\"Top 10 Countries by Percentage of People Earning >50K:\\n\")\n",
        "display(top10_table.style.background_gradient(cmap='Greens').format({'Percentage of People >50K': '{:.1f}%'}))\n",
        "\n",
        "# Plot chart\n",
        "top10_rich_countries.plot(kind='bar', color='teal')\n",
        "plt.title('Top 10 Countries by % of Rich People (>50K)')\n",
        "plt.ylabel('Percentage')\n",
        "plt.xlabel('Country')\n",
        "plt.xticks(rotation=45)\n",
        "plt.tight_layout()\n",
        "plt.show()\n"
      ],
      "metadata": {
        "colab": {
          "base_uri": "https://localhost:8080/",
          "height": 868
        },
        "cellView": "form",
        "id": "Stkp2inW0Xz8",
        "outputId": "e0a2e139-2219-4841-804f-c175d5bd906d"
      },
      "execution_count": 27,
      "outputs": [
        {
          "output_type": "stream",
          "name": "stdout",
          "text": [
            "Top 10 Countries by Percentage of People Earning >50K:\n",
            "\n"
          ]
        },
        {
          "output_type": "display_data",
          "data": {
            "text/plain": [
              "<pandas.io.formats.style.Styler at 0x78b58b852fc0>"
            ],
            "text/html": [
              "<style type=\"text/css\">\n",
              "#T_44764_row0_col1 {\n",
              "  background-color: #00441b;\n",
              "  color: #f1f1f1;\n",
              "}\n",
              "#T_44764_row1_col1 {\n",
              "  background-color: #005321;\n",
              "  color: #f1f1f1;\n",
              "}\n",
              "#T_44764_row2_col1 {\n",
              "  background-color: #137d39;\n",
              "  color: #f1f1f1;\n",
              "}\n",
              "#T_44764_row3_col1 {\n",
              "  background-color: #29914a;\n",
              "  color: #f1f1f1;\n",
              "}\n",
              "#T_44764_row4_col1 {\n",
              "  background-color: #359e53;\n",
              "  color: #f1f1f1;\n",
              "}\n",
              "#T_44764_row5_col1 {\n",
              "  background-color: #60ba6c;\n",
              "  color: #f1f1f1;\n",
              "}\n",
              "#T_44764_row6_col1 {\n",
              "  background-color: #7cc87c;\n",
              "  color: #000000;\n",
              "}\n",
              "#T_44764_row7_col1 {\n",
              "  background-color: #d1edcb;\n",
              "  color: #000000;\n",
              "}\n",
              "#T_44764_row8_col1 {\n",
              "  background-color: #e7f6e2;\n",
              "  color: #000000;\n",
              "}\n",
              "#T_44764_row9_col1 {\n",
              "  background-color: #f7fcf5;\n",
              "  color: #000000;\n",
              "}\n",
              "</style>\n",
              "<table id=\"T_44764\" class=\"dataframe\">\n",
              "  <thead>\n",
              "    <tr>\n",
              "      <th class=\"blank level0\" >&nbsp;</th>\n",
              "      <th id=\"T_44764_level0_col0\" class=\"col_heading level0 col0\" >Country</th>\n",
              "      <th id=\"T_44764_level0_col1\" class=\"col_heading level0 col1\" >Percentage of People >50K</th>\n",
              "    </tr>\n",
              "  </thead>\n",
              "  <tbody>\n",
              "    <tr>\n",
              "      <th id=\"T_44764_level0_row0\" class=\"row_heading level0 row0\" >0</th>\n",
              "      <td id=\"T_44764_row0_col0\" class=\"data row0 col0\" >Iran</td>\n",
              "      <td id=\"T_44764_row0_col1\" class=\"data row0 col1\" >41.9%</td>\n",
              "    </tr>\n",
              "    <tr>\n",
              "      <th id=\"T_44764_level0_row1\" class=\"row_heading level0 row1\" >1</th>\n",
              "      <td id=\"T_44764_row1_col0\" class=\"data row1 col0\" >France</td>\n",
              "      <td id=\"T_44764_row1_col1\" class=\"data row1 col1\" >41.4%</td>\n",
              "    </tr>\n",
              "    <tr>\n",
              "      <th id=\"T_44764_level0_row2\" class=\"row_heading level0 row2\" >2</th>\n",
              "      <td id=\"T_44764_row2_col0\" class=\"data row2 col0\" >India</td>\n",
              "      <td id=\"T_44764_row2_col1\" class=\"data row2 col1\" >40.0%</td>\n",
              "    </tr>\n",
              "    <tr>\n",
              "      <th id=\"T_44764_level0_row3\" class=\"row_heading level0 row3\" >3</th>\n",
              "      <td id=\"T_44764_row3_col0\" class=\"data row3 col0\" >Taiwan</td>\n",
              "      <td id=\"T_44764_row3_col1\" class=\"data row3 col1\" >39.2%</td>\n",
              "    </tr>\n",
              "    <tr>\n",
              "      <th id=\"T_44764_level0_row4\" class=\"row_heading level0 row4\" >4</th>\n",
              "      <td id=\"T_44764_row4_col0\" class=\"data row4 col0\" >Japan</td>\n",
              "      <td id=\"T_44764_row4_col1\" class=\"data row4 col1\" >38.7%</td>\n",
              "    </tr>\n",
              "    <tr>\n",
              "      <th id=\"T_44764_level0_row5\" class=\"row_heading level0 row5\" >5</th>\n",
              "      <td id=\"T_44764_row5_col0\" class=\"data row5 col0\" >Yugoslavia</td>\n",
              "      <td id=\"T_44764_row5_col1\" class=\"data row5 col1\" >37.5%</td>\n",
              "    </tr>\n",
              "    <tr>\n",
              "      <th id=\"T_44764_level0_row6\" class=\"row_heading level0 row6\" >6</th>\n",
              "      <td id=\"T_44764_row6_col0\" class=\"data row6 col0\" >Cambodia</td>\n",
              "      <td id=\"T_44764_row6_col1\" class=\"data row6 col1\" >36.8%</td>\n",
              "    </tr>\n",
              "    <tr>\n",
              "      <th id=\"T_44764_level0_row7\" class=\"row_heading level0 row7\" >7</th>\n",
              "      <td id=\"T_44764_row7_col0\" class=\"data row7 col0\" >Italy</td>\n",
              "      <td id=\"T_44764_row7_col1\" class=\"data row7 col1\" >34.2%</td>\n",
              "    </tr>\n",
              "    <tr>\n",
              "      <th id=\"T_44764_level0_row8\" class=\"row_heading level0 row8\" >8</th>\n",
              "      <td id=\"T_44764_row8_col0\" class=\"data row8 col0\" >England</td>\n",
              "      <td id=\"T_44764_row8_col1\" class=\"data row8 col1\" >33.3%</td>\n",
              "    </tr>\n",
              "    <tr>\n",
              "      <th id=\"T_44764_level0_row9\" class=\"row_heading level0 row9\" >9</th>\n",
              "      <td id=\"T_44764_row9_col0\" class=\"data row9 col0\" >Canada</td>\n",
              "      <td id=\"T_44764_row9_col1\" class=\"data row9 col1\" >32.2%</td>\n",
              "    </tr>\n",
              "  </tbody>\n",
              "</table>\n"
            ]
          },
          "metadata": {}
        },
        {
          "output_type": "display_data",
          "data": {
            "text/plain": [
              "<Figure size 640x480 with 1 Axes>"
            ],
            "image/png": "[encoded data removed]"
          },
          "metadata": {}
        }
      ]
    },
    {
      "cell_type": "markdown",
      "source": [
        "## 🧾 Summary of Insights\n",
        "\n",
        "### Dataset Overview\n",
        "The dataset contains **32,561 entries** with a diverse representation of races:\n",
        "\n",
        "| Race                  | Count  |\n",
        "|-----------------------|-------:|\n",
        "| White                 | 27,816 |\n",
        "| Black                 | 3,124  |\n",
        "| Asian-Pac-Islander    | 1,039  |\n",
        "| Amer-Indian-Eskimo    | 311    |\n",
        "| Other                 | 271    |\n",
        "\n",
        "### Key Statistics\n",
        "- **Average age of men:** 39.4 years  \n",
        "- **Percentage with Bachelor's degree:** 16.4%  \n",
        "- **Percentage of higher-educated individuals earning >50K:** 46.5%  \n",
        "- **Percentage of lower-educated individuals earning >50K:** 17.4%  \n",
        "- **Minimum weekly work hours:** 1 hour  \n",
        "- **Percentage of rich among those working minimum hours:** 10.0%  \n",
        "- **Country with highest proportion of rich individuals:** India (41.9%)  \n",
        "- **Most common occupation for high earners in India:** Prof-specialty  \n",
        "\n",
        "### Insights\n",
        "This analysis highlights how **education, occupation, and country of origin** influence income levels in the adult population. Higher education significantly increases the likelihood of earning >50K, while working hours and country of origin also play important roles. The dataset provides a clear view of socioeconomic patterns that can inform further studies or predictive modeling.\n"
      ],
      "metadata": {
        "id": "je4Wa1GVqRPN"
      }
    }
  ]
}